{
 "cells": [
  {
   "cell_type": "code",
   "execution_count": 5,
   "id": "4c257d84",
   "metadata": {},
   "outputs": [
    {
     "name": "stdout",
     "output_type": "stream",
     "text": [
      "   Id  MSSubClass MSZoning  LotFrontage  LotArea Street Alley LotShape  \\\n",
      "0   1          60       RL         65.0     8450   Pave   NaN      Reg   \n",
      "1   2          20       RL         80.0     9600   Pave   NaN      Reg   \n",
      "2   3          60       RL         68.0    11250   Pave   NaN      IR1   \n",
      "3   4          70       RL         60.0     9550   Pave   NaN      IR1   \n",
      "4   5          60       RL         84.0    14260   Pave   NaN      IR1   \n",
      "\n",
      "  LandContour Utilities  ... PoolArea PoolQC Fence MiscFeature MiscVal MoSold  \\\n",
      "0         Lvl    AllPub  ...        0    NaN   NaN         NaN       0      2   \n",
      "1         Lvl    AllPub  ...        0    NaN   NaN         NaN       0      5   \n",
      "2         Lvl    AllPub  ...        0    NaN   NaN         NaN       0      9   \n",
      "3         Lvl    AllPub  ...        0    NaN   NaN         NaN       0      2   \n",
      "4         Lvl    AllPub  ...        0    NaN   NaN         NaN       0     12   \n",
      "\n",
      "  YrSold  SaleType  SaleCondition  SalePrice  \n",
      "0   2008        WD         Normal     208500  \n",
      "1   2007        WD         Normal     181500  \n",
      "2   2008        WD         Normal     223500  \n",
      "3   2006        WD        Abnorml     140000  \n",
      "4   2008        WD         Normal     250000  \n",
      "\n",
      "[5 rows x 81 columns]\n",
      "<class 'pandas.core.frame.DataFrame'>\n",
      "RangeIndex: 1460 entries, 0 to 1459\n",
      "Data columns (total 81 columns):\n",
      " #   Column         Non-Null Count  Dtype  \n",
      "---  ------         --------------  -----  \n",
      " 0   Id             1460 non-null   int64  \n",
      " 1   MSSubClass     1460 non-null   int64  \n",
      " 2   MSZoning       1460 non-null   object \n",
      " 3   LotFrontage    1201 non-null   float64\n",
      " 4   LotArea        1460 non-null   int64  \n",
      " 5   Street         1460 non-null   object \n",
      " 6   Alley          91 non-null     object \n",
      " 7   LotShape       1460 non-null   object \n",
      " 8   LandContour    1460 non-null   object \n",
      " 9   Utilities      1460 non-null   object \n",
      " 10  LotConfig      1460 non-null   object \n",
      " 11  LandSlope      1460 non-null   object \n",
      " 12  Neighborhood   1460 non-null   object \n",
      " 13  Condition1     1460 non-null   object \n",
      " 14  Condition2     1460 non-null   object \n",
      " 15  BldgType       1460 non-null   object \n",
      " 16  HouseStyle     1460 non-null   object \n",
      " 17  OverallQual    1460 non-null   int64  \n",
      " 18  OverallCond    1460 non-null   int64  \n",
      " 19  YearBuilt      1460 non-null   int64  \n",
      " 20  YearRemodAdd   1460 non-null   int64  \n",
      " 21  RoofStyle      1460 non-null   object \n",
      " 22  RoofMatl       1460 non-null   object \n",
      " 23  Exterior1st    1460 non-null   object \n",
      " 24  Exterior2nd    1460 non-null   object \n",
      " 25  MasVnrType     588 non-null    object \n",
      " 26  MasVnrArea     1452 non-null   float64\n",
      " 27  ExterQual      1460 non-null   object \n",
      " 28  ExterCond      1460 non-null   object \n",
      " 29  Foundation     1460 non-null   object \n",
      " 30  BsmtQual       1423 non-null   object \n",
      " 31  BsmtCond       1423 non-null   object \n",
      " 32  BsmtExposure   1422 non-null   object \n",
      " 33  BsmtFinType1   1423 non-null   object \n",
      " 34  BsmtFinSF1     1460 non-null   int64  \n",
      " 35  BsmtFinType2   1422 non-null   object \n",
      " 36  BsmtFinSF2     1460 non-null   int64  \n",
      " 37  BsmtUnfSF      1460 non-null   int64  \n",
      " 38  TotalBsmtSF    1460 non-null   int64  \n",
      " 39  Heating        1460 non-null   object \n",
      " 40  HeatingQC      1460 non-null   object \n",
      " 41  CentralAir     1460 non-null   object \n",
      " 42  Electrical     1459 non-null   object \n",
      " 43  1stFlrSF       1460 non-null   int64  \n",
      " 44  2ndFlrSF       1460 non-null   int64  \n",
      " 45  LowQualFinSF   1460 non-null   int64  \n",
      " 46  GrLivArea      1460 non-null   int64  \n",
      " 47  BsmtFullBath   1460 non-null   int64  \n",
      " 48  BsmtHalfBath   1460 non-null   int64  \n",
      " 49  FullBath       1460 non-null   int64  \n",
      " 50  HalfBath       1460 non-null   int64  \n",
      " 51  BedroomAbvGr   1460 non-null   int64  \n",
      " 52  KitchenAbvGr   1460 non-null   int64  \n",
      " 53  KitchenQual    1460 non-null   object \n",
      " 54  TotRmsAbvGrd   1460 non-null   int64  \n",
      " 55  Functional     1460 non-null   object \n",
      " 56  Fireplaces     1460 non-null   int64  \n",
      " 57  FireplaceQu    770 non-null    object \n",
      " 58  GarageType     1379 non-null   object \n",
      " 59  GarageYrBlt    1379 non-null   float64\n",
      " 60  GarageFinish   1379 non-null   object \n",
      " 61  GarageCars     1460 non-null   int64  \n",
      " 62  GarageArea     1460 non-null   int64  \n",
      " 63  GarageQual     1379 non-null   object \n",
      " 64  GarageCond     1379 non-null   object \n",
      " 65  PavedDrive     1460 non-null   object \n",
      " 66  WoodDeckSF     1460 non-null   int64  \n",
      " 67  OpenPorchSF    1460 non-null   int64  \n",
      " 68  EnclosedPorch  1460 non-null   int64  \n",
      " 69  3SsnPorch      1460 non-null   int64  \n",
      " 70  ScreenPorch    1460 non-null   int64  \n",
      " 71  PoolArea       1460 non-null   int64  \n",
      " 72  PoolQC         7 non-null      object \n",
      " 73  Fence          281 non-null    object \n",
      " 74  MiscFeature    54 non-null     object \n",
      " 75  MiscVal        1460 non-null   int64  \n",
      " 76  MoSold         1460 non-null   int64  \n",
      " 77  YrSold         1460 non-null   int64  \n",
      " 78  SaleType       1460 non-null   object \n",
      " 79  SaleCondition  1460 non-null   object \n",
      " 80  SalePrice      1460 non-null   int64  \n",
      "dtypes: float64(3), int64(35), object(43)\n",
      "memory usage: 924.0+ KB\n",
      "None\n"
     ]
    }
   ],
   "source": [
    "# Import necessary libraries\n",
    "import pandas as pd\n",
    "\n",
    "# Step 1: Data Preparation\n",
    "# a. Load the dataset using pandas\n",
    "data = pd.read_csv('C:/Users/hp/Downloads/train.csv')  # Replace with the actual path to your dataset.\n",
    "\n",
    "# b. Explore and clean the data\n",
    "# Let's start by exploring the data and checking for missing values and outliers.\n",
    "print(data.head())  # Display the first few rows of the dataset\n",
    "print(data.info())  # Get information about the dataset, including missing values\n",
    "\n",
    "# You can handle missing values and outliers based on your specific dataset and requirements.\n",
    "\n",
    "# c. Split the dataset into training and testing sets\n",
    "from sklearn.model_selection import train_test_split\n",
    "\n",
    "# Define the feature variables (independent variables) and the target variable (dependent variable)\n",
    "X = data[['GrLivArea', 'BedroomAbvGr', 'FullBath', 'HalfBath']]  # Adjust features as needed\n",
    "y = data['SalePrice']  # Adjust the target variable as needed\n",
    "\n",
    "# Split the data into training and testing sets (80% training, 20% testing)\n",
    "X_train, X_test, y_train, y_test = train_test_split(X, y, test_size=0.2, random_state=42)\n",
    "\n",
    "# X_train: Training data for features\n",
    "# X_test: Testing data for features\n",
    "# y_train: Training data for the target variable\n",
    "# y_test: Testing data for the target variable\n"
   ]
  },
  {
   "cell_type": "code",
   "execution_count": null,
   "id": "d4ad2540",
   "metadata": {},
   "outputs": [],
   "source": [
    ". Implement Simple Linear Regression:\n",
    "\n",
    "a. Choose a feature (e.g., square footage) as the independent variable (X) and house prices as the dependent variable (y).\n",
    "\n",
    "b. Implement a simple linear regression model using sklearn to predict house prices based on the selected feature.\n",
    "\n",
    "c. Visualize the data and the regression line."
   ]
  },
  {
   "cell_type": "code",
   "execution_count": 6,
   "id": "0e40187b",
   "metadata": {},
   "outputs": [
    {
     "name": "stderr",
     "output_type": "stream",
     "text": [
      "C:\\Users\\hp\\anaconda3\\Lib\\site-packages\\sklearn\\base.py:464: UserWarning: X does not have valid feature names, but LinearRegression was fitted with feature names\n",
      "  warnings.warn(\n"
     ]
    },
    {
     "data": {
      "image/png": "[encoded data removed]",
      "text/plain": [
       "<Figure size 640x480 with 1 Axes>"
      ]
     },
     "metadata": {},
     "output_type": "display_data"
    }
   ],
   "source": [
    "# Import necessary libraries\n",
    "import numpy as np\n",
    "import matplotlib.pyplot as plt\n",
    "from sklearn.linear_model import LinearRegression\n",
    "\n",
    "# Step 2: Implement Simple Linear Regression\n",
    "# a. Choose a feature (e.g., square footage) as the independent variable (X)\n",
    "X_simple = X_train[['GrLivArea']]\n",
    "y_simple = y_train\n",
    "\n",
    "# b. Implement a simple linear regression model using scikit-learn\n",
    "simple_model = LinearRegression()\n",
    "simple_model.fit(X_simple, y_simple)\n",
    "\n",
    "# c. Visualize the data and the regression line\n",
    "# Create a scatter plot of the data\n",
    "plt.scatter(X_simple, y_simple, color='blue', label='Data Points')\n",
    "\n",
    "# Create the regression line\n",
    "X_range = np.arange(min(X_simple.values), max(X_simple.values)).reshape(-1, 1)\n",
    "y_pred_simple = simple_model.predict(X_range)\n",
    "plt.plot(X_range, y_pred_simple, color='red', label='Regression Line')\n",
    "\n",
    "# Add labels and a legend\n",
    "plt.xlabel('Square Footage')\n",
    "plt.ylabel('House Price')\n",
    "plt.legend()\n",
    "\n",
    "# Show the plot\n",
    "plt.show()\n"
   ]
  },
  {
   "cell_type": "code",
   "execution_count": null,
   "id": "f2563be8",
   "metadata": {},
   "outputs": [],
   "source": [
    "Evaluate the Simple Linear Regression Model:\n",
    "\n",
    "a. Use scikit-learn to calculate the R-squared value to assess the goodness of fit.\n",
    "\n",
    "h. Interpret the R-squared value and discuss the model's performance."
   ]
  },
  {
   "cell_type": "code",
   "execution_count": 8,
   "id": "d80febc1",
   "metadata": {},
   "outputs": [
    {
     "name": "stdout",
     "output_type": "stream",
     "text": [
      "R-squared value: 0.5542632452871116\n"
     ]
    }
   ],
   "source": [
    "# Import necessary libraries\n",
    "from sklearn.metrics import r2_score\n",
    "\n",
    "# Evaluate the Simple Linear Regression Model\n",
    "# a. Use scikit-learn to calculate the R-squared value\n",
    "y_pred_simple = simple_model.predict(X_test[['GrLivArea']])\n",
    "r_squared_simple = r2_score(y_test, y_pred_simple)\n",
    "\n",
    "# h. Interpret the R-squared value and discuss the model's performance\n",
    "print(f'R-squared value: {r_squared_simple}')\n",
    "\n",
    "\n",
    "\n"
   ]
  },
  {
   "cell_type": "code",
   "execution_count": null,
   "id": "ac5806fd",
   "metadata": {},
   "outputs": [],
   "source": [
    "Implement Multiple Linear Regression:\n",
    "\n",
    "a. Select multiple features (e.g., square footage, number of bedrooms, number of bathrooms) as independent variables (X) and house prices as the dependent variable (y).\n",
    "\n",
    "b. Implement a multiple linear regression model using scikit-learn to predict house prices based on the selected features"
   ]
  },
  {
   "cell_type": "code",
   "execution_count": 9,
   "id": "66e11051",
   "metadata": {},
   "outputs": [
    {
     "data": {
      "text/html": [
       "<style>#sk-container-id-1 {color: black;}#sk-container-id-1 pre{padding: 0;}#sk-container-id-1 div.sk-toggleable {background-color: white;}#sk-container-id-1 label.sk-toggleable__label {cursor: pointer;display: block;width: 100%;margin-bottom: 0;padding: 0.3em;box-sizing: border-box;text-align: center;}#sk-container-id-1 label.sk-toggleable__label-arrow:before {content: \"▸\";float: left;margin-right: 0.25em;color: #696969;}#sk-container-id-1 label.sk-toggleable__label-arrow:hover:before {color: black;}#sk-container-id-1 div.sk-estimator:hover label.sk-toggleable__label-arrow:before {color: black;}#sk-container-id-1 div.sk-toggleable__content {max-height: 0;max-width: 0;overflow: hidden;text-align: left;background-color: #f0f8ff;}#sk-container-id-1 div.sk-toggleable__content pre {margin: 0.2em;color: black;border-radius: 0.25em;background-color: #f0f8ff;}#sk-container-id-1 input.sk-toggleable__control:checked~div.sk-toggleable__content {max-height: 200px;max-width: 100%;overflow: auto;}#sk-container-id-1 input.sk-toggleable__control:checked~label.sk-toggleable__label-arrow:before {content: \"▾\";}#sk-container-id-1 div.sk-estimator input.sk-toggleable__control:checked~label.sk-toggleable__label {background-color: #d4ebff;}#sk-container-id-1 div.sk-label input.sk-toggleable__control:checked~label.sk-toggleable__label {background-color: #d4ebff;}#sk-container-id-1 input.sk-hidden--visually {border: 0;clip: rect(1px 1px 1px 1px);clip: rect(1px, 1px, 1px, 1px);height: 1px;margin: -1px;overflow: hidden;padding: 0;position: absolute;width: 1px;}#sk-container-id-1 div.sk-estimator {font-family: monospace;background-color: #f0f8ff;border: 1px dotted black;border-radius: 0.25em;box-sizing: border-box;margin-bottom: 0.5em;}#sk-container-id-1 div.sk-estimator:hover {background-color: #d4ebff;}#sk-container-id-1 div.sk-parallel-item::after {content: \"\";width: 100%;border-bottom: 1px solid gray;flex-grow: 1;}#sk-container-id-1 div.sk-label:hover label.sk-toggleable__label {background-color: #d4ebff;}#sk-container-id-1 div.sk-serial::before {content: \"\";position: absolute;border-left: 1px solid gray;box-sizing: border-box;top: 0;bottom: 0;left: 50%;z-index: 0;}#sk-container-id-1 div.sk-serial {display: flex;flex-direction: column;align-items: center;background-color: white;padding-right: 0.2em;padding-left: 0.2em;position: relative;}#sk-container-id-1 div.sk-item {position: relative;z-index: 1;}#sk-container-id-1 div.sk-parallel {display: flex;align-items: stretch;justify-content: center;background-color: white;position: relative;}#sk-container-id-1 div.sk-item::before, #sk-container-id-1 div.sk-parallel-item::before {content: \"\";position: absolute;border-left: 1px solid gray;box-sizing: border-box;top: 0;bottom: 0;left: 50%;z-index: -1;}#sk-container-id-1 div.sk-parallel-item {display: flex;flex-direction: column;z-index: 1;position: relative;background-color: white;}#sk-container-id-1 div.sk-parallel-item:first-child::after {align-self: flex-end;width: 50%;}#sk-container-id-1 div.sk-parallel-item:last-child::after {align-self: flex-start;width: 50%;}#sk-container-id-1 div.sk-parallel-item:only-child::after {width: 0;}#sk-container-id-1 div.sk-dashed-wrapped {border: 1px dashed gray;margin: 0 0.4em 0.5em 0.4em;box-sizing: border-box;padding-bottom: 0.4em;background-color: white;}#sk-container-id-1 div.sk-label label {font-family: monospace;font-weight: bold;display: inline-block;line-height: 1.2em;}#sk-container-id-1 div.sk-label-container {text-align: center;}#sk-container-id-1 div.sk-container {/* jupyter's `normalize.less` sets `[hidden] { display: none; }` but bootstrap.min.css set `[hidden] { display: none !important; }` so we also need the `!important` here to be able to override the default hidden behavior on the sphinx rendered scikit-learn.org. See: https://github.com/scikit-learn/scikit-learn/issues/21755 */display: inline-block !important;position: relative;}#sk-container-id-1 div.sk-text-repr-fallback {display: none;}</style><div id=\"sk-container-id-1\" class=\"sk-top-container\"><div class=\"sk-text-repr-fallback\"><pre>LinearRegression()</pre><b>In a Jupyter environment, please rerun this cell to show the HTML representation or trust the notebook. <br />On GitHub, the HTML representation is unable to render, please try loading this page with nbviewer.org.</b></div><div class=\"sk-container\" hidden><div class=\"sk-item\"><div class=\"sk-estimator sk-toggleable\"><input class=\"sk-toggleable__control sk-hidden--visually\" id=\"sk-estimator-id-1\" type=\"checkbox\" checked><label for=\"sk-estimator-id-1\" class=\"sk-toggleable__label sk-toggleable__label-arrow\">LinearRegression</label><div class=\"sk-toggleable__content\"><pre>LinearRegression()</pre></div></div></div></div></div>"
      ],
      "text/plain": [
       "LinearRegression()"
      ]
     },
     "execution_count": 9,
     "metadata": {},
     "output_type": "execute_result"
    }
   ],
   "source": [
    "# Import necessary libraries\n",
    "from sklearn.linear_model import LinearRegression\n",
    "\n",
    "# Step 4: Implement Multiple Linear Regression\n",
    "# a. Select multiple features (e.g., square footage, number of bedrooms, number of bathrooms) as independent variables (X)\n",
    "# In this example, we'll use 'GrLivArea', 'BedroomAbvGr', 'FullBath', and 'HalfBath' as features.\n",
    "X_multiple = X_train  # Include the selected features\n",
    "y_multiple = y_train\n",
    "\n",
    "# b. Implement a multiple linear regression model using scikit-learn\n",
    "multiple_model = LinearRegression()\n",
    "multiple_model.fit(X_multiple, y_multiple)\n"
   ]
  },
  {
   "cell_type": "code",
   "execution_count": null,
   "id": "6bdde451",
   "metadata": {},
   "outputs": [],
   "source": [
    "Evaluate the Multiple Linear Regression Model:\n",
    "\n",
    "a. Calculate the Mean Absolute Error (MAE), Mean Squared Error (MSE), and Root Mean Squared Error (RMSE) to assess the model's accuracy.\n",
    "\n",
    "b. Discuss the advantages of using multiple features in regression analysis."
   ]
  },
  {
   "cell_type": "code",
   "execution_count": 17,
   "id": "616fe9d3",
   "metadata": {},
   "outputs": [
    {
     "name": "stdout",
     "output_type": "stream",
     "text": [
      "Mean Absolute Error (MAE): 36018.563138363446\n",
      "Mean Squared Error (MSE): 2810942965.218065\n",
      "Root Mean Squared Error (RMSE): 53018.326691985145\n"
     ]
    }
   ],
   "source": [
    "# Import necessary libraries\n",
    "from sklearn.metrics import mean_absolute_error, mean_squared_error\n",
    "\n",
    "# Step 5: Evaluate the Multiple Linear Regression Model\n",
    "# a. Calculate the Mean Absolute Error (MAE), Mean Squared Error (MSE), and Root Mean Squared Error (RMSE)\n",
    "\n",
    "# Make predictions using the multiple linear regression model\n",
    "y_pred_multiple = multiple_model.predict(X_test)\n",
    "\n",
    "# Calculate the Mean Absolute Error (MAE)\n",
    "mae = mean_absolute_error(y_test, y_pred_multiple)\n",
    "\n",
    "# Calculate the Mean Squared Error (MSE)\n",
    "mse = mean_squared_error(y_test, y_pred_multiple)\n",
    "\n",
    "# Calculate the Root Mean Squared Error (RMSE)\n",
    "rmse = np.sqrt(mse)\n",
    "\n",
    "# Print the results\n",
    "print(f'Mean Absolute Error (MAE): {mae}')\n",
    "print(f'Mean Squared Error (MSE): {mse}')\n",
    "print(f'Root Mean Squared Error (RMSE): {rmse}')\n",
    "\n",
    "# b. Discuss the advantages of using multiple features in regression analysis\n",
    "# Advantages of using multiple features:\n",
    "# 1. Capturing Complex Relationships: Multiple features can capture complex, non-linear relationships between independent and dependent variables.\n",
    "# 2. Improved Model Accuracy: Using multiple features can lead to more accurate predictions compared to simple linear regression.\n",
    "# 3. Increased Information: Including more features provides the model with additional information, leading to better understanding of the data.\n",
    "# 4. Improved Generalization: A model with multiple features can generalize better to unseen data.\n",
    "\n",
    "# However, it's essential to handle multicollinearity, select relevant features, and avoid overfitting when using multiple features.\n"
   ]
  },
  {
   "cell_type": "code",
   "execution_count": null,
   "id": "027d6123",
   "metadata": {},
   "outputs": [],
   "source": [
    "Model Comparison:\n",
    "\n",
    "a. Compare the results of the simple linear regression and multiple linear regression models.\n",
    "\n",
    "b. Discuss the advantages and limitations of each model."
   ]
  },
  {
   "cell_type": "code",
   "execution_count": 11,
   "id": "1a483d0a",
   "metadata": {},
   "outputs": [
    {
     "name": "stdout",
     "output_type": "stream",
     "text": [
      "Results Comparison:\n",
      "Simple Linear Regression R-squared: 0.5542632452871116\n",
      "Multiple Linear Regression R-squared: 0.6335301929422246\n",
      "Simple Linear Regression MAE: 38341.20447642107\n",
      "Multiple Linear Regression MAE: 36018.563138363446\n",
      "Simple Linear Regression RMSE: 58471.75652552955\n",
      "Multiple Linear Regression RMSE: 53018.326691985145\n"
     ]
    }
   ],
   "source": [
    "# Import necessary libraries\n",
    "from sklearn.metrics import r2_score, mean_absolute_error, mean_squared_error\n",
    "\n",
    "# Implement and evaluate the Simple Linear Regression Model\n",
    "# ...\n",
    "\n",
    "# Implement and evaluate the Multiple Linear Regression Model\n",
    "# ...\n",
    "\n",
    "# Compare the results\n",
    "# R-squared values\n",
    "r_squared_simple = r2_score(y_test, y_pred_simple)\n",
    "r_squared_multiple = r2_score(y_test, y_pred_multiple)\n",
    "\n",
    "# Mean Absolute Error (MAE)\n",
    "mae_simple = mean_absolute_error(y_test, y_pred_simple)\n",
    "mae_multiple = mean_absolute_error(y_test, y_pred_multiple)\n",
    "\n",
    "# Mean Squared Error (MSE)\n",
    "mse_simple = mean_squared_error(y_test, y_pred_simple)\n",
    "mse_multiple = mean_squared_error(y_test, y_pred_multiple)\n",
    "\n",
    "# Root Mean Squared Error (RMSE)\n",
    "rmse_simple = np.sqrt(mse_simple)\n",
    "rmse_multiple = np.sqrt(mse_multiple)\n",
    "\n",
    "# Print and compare the results\n",
    "print(\"Results Comparison:\")\n",
    "print(f\"Simple Linear Regression R-squared: {r_squared_simple}\")\n",
    "print(f\"Multiple Linear Regression R-squared: {r_squared_multiple}\")\n",
    "print(f\"Simple Linear Regression MAE: {mae_simple}\")\n",
    "print(f\"Multiple Linear Regression MAE: {mae_multiple}\")\n",
    "print(f\"Simple Linear Regression RMSE: {rmse_simple}\")\n",
    "print(f\"Multiple Linear Regression RMSE: {rmse_multiple}\")\n",
    "\n",
    "# You can add additional metrics as needed.\n"
   ]
  },
  {
   "cell_type": "code",
   "execution_count": null,
   "id": "97c79afe",
   "metadata": {},
   "outputs": [],
   "source": []
  }
 ],
 "metadata": {
  "kernelspec": {
   "display_name": "Python 3 (ipykernel)",
   "language": "python",
   "name": "python3"
  },
  "language_info": {
   "codemirror_mode": {
    "name": "ipython",
    "version": 3
   },
   "file_extension": ".py",
   "mimetype": "text/x-python",
   "name": "python",
   "nbconvert_exporter": "python",
   "pygments_lexer": "ipython3",
   "version": "3.11.5"
  }
 },
 "nbformat": 4,
 "nbformat_minor": 5
}
