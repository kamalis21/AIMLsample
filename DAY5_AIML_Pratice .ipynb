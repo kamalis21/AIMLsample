{
 "cells": [
  {
   "cell_type": "code",
   "execution_count": null,
   "id": "387bd800",
   "metadata": {},
   "outputs": [],
   "source": [
    "Data Exploration:\n",
    "a. Load the dataset using Python libraries like pandas and explore its structure. Describe the features,\n",
    "target variables, and data distribution.\n",
    "b. Discuss the importance of customer satisfaction and sales prediction in the retail business context."
   ]
  },
  {
   "cell_type": "code",
   "execution_count": 1,
   "id": "8cf8812b",
   "metadata": {},
   "outputs": [
    {
     "name": "stdout",
     "output_type": "stream",
     "text": [
      "   Unnamed: 0      id  Gender      Customer Type  Age   Type of Travel  \\\n",
      "0           0   70172    Male     Loyal Customer   13  Personal Travel   \n",
      "1           1    5047    Male  disloyal Customer   25  Business travel   \n",
      "2           2  110028  Female     Loyal Customer   26  Business travel   \n",
      "3           3   24026  Female     Loyal Customer   25  Business travel   \n",
      "4           4  119299    Male     Loyal Customer   61  Business travel   \n",
      "\n",
      "      Class  Flight Distance  Inflight wifi service  \\\n",
      "0  Eco Plus              460                      3   \n",
      "1  Business              235                      3   \n",
      "2  Business             1142                      2   \n",
      "3  Business              562                      2   \n",
      "4  Business              214                      3   \n",
      "\n",
      "   Departure/Arrival time convenient  ...  Inflight entertainment  \\\n",
      "0                                  4  ...                       5   \n",
      "1                                  2  ...                       1   \n",
      "2                                  2  ...                       5   \n",
      "3                                  5  ...                       2   \n",
      "4                                  3  ...                       3   \n",
      "\n",
      "   On-board service  Leg room service  Baggage handling  Checkin service  \\\n",
      "0                 4                 3                 4                4   \n",
      "1                 1                 5                 3                1   \n",
      "2                 4                 3                 4                4   \n",
      "3                 2                 5                 3                1   \n",
      "4                 3                 4                 4                3   \n",
      "\n",
      "   Inflight service  Cleanliness  Departure Delay in Minutes  \\\n",
      "0                 5            5                          25   \n",
      "1                 4            1                           1   \n",
      "2                 4            5                           0   \n",
      "3                 4            2                          11   \n",
      "4                 3            3                           0   \n",
      "\n",
      "   Arrival Delay in Minutes             satisfaction  \n",
      "0                      18.0  neutral or dissatisfied  \n",
      "1                       6.0  neutral or dissatisfied  \n",
      "2                       0.0                satisfied  \n",
      "3                       9.0  neutral or dissatisfied  \n",
      "4                       0.0                satisfied  \n",
      "\n",
      "[5 rows x 25 columns]\n",
      "(103904, 25)\n",
      "<class 'pandas.core.frame.DataFrame'>\n",
      "RangeIndex: 103904 entries, 0 to 103903\n",
      "Data columns (total 25 columns):\n",
      " #   Column                             Non-Null Count   Dtype  \n",
      "---  ------                             --------------   -----  \n",
      " 0   Unnamed: 0                         103904 non-null  int64  \n",
      " 1   id                                 103904 non-null  int64  \n",
      " 2   Gender                             103904 non-null  object \n",
      " 3   Customer Type                      103904 non-null  object \n",
      " 4   Age                                103904 non-null  int64  \n",
      " 5   Type of Travel                     103904 non-null  object \n",
      " 6   Class                              103904 non-null  object \n",
      " 7   Flight Distance                    103904 non-null  int64  \n",
      " 8   Inflight wifi service              103904 non-null  int64  \n",
      " 9   Departure/Arrival time convenient  103904 non-null  int64  \n",
      " 10  Ease of Online booking             103904 non-null  int64  \n",
      " 11  Gate location                      103904 non-null  int64  \n",
      " 12  Food and drink                     103904 non-null  int64  \n",
      " 13  Online boarding                    103904 non-null  int64  \n",
      " 14  Seat comfort                       103904 non-null  int64  \n",
      " 15  Inflight entertainment             103904 non-null  int64  \n",
      " 16  On-board service                   103904 non-null  int64  \n",
      " 17  Leg room service                   103904 non-null  int64  \n",
      " 18  Baggage handling                   103904 non-null  int64  \n",
      " 19  Checkin service                    103904 non-null  int64  \n",
      " 20  Inflight service                   103904 non-null  int64  \n",
      " 21  Cleanliness                        103904 non-null  int64  \n",
      " 22  Departure Delay in Minutes         103904 non-null  int64  \n",
      " 23  Arrival Delay in Minutes           103594 non-null  float64\n",
      " 24  satisfaction                       103904 non-null  object \n",
      "dtypes: float64(1), int64(19), object(5)\n",
      "memory usage: 19.8+ MB\n",
      "None\n",
      "          Unnamed: 0             id            Age  Flight Distance  \\\n",
      "count  103904.000000  103904.000000  103904.000000    103904.000000   \n",
      "mean    51951.500000   64924.210502      39.379706      1189.448375   \n",
      "std     29994.645522   37463.812252      15.114964       997.147281   \n",
      "min         0.000000       1.000000       7.000000        31.000000   \n",
      "25%     25975.750000   32533.750000      27.000000       414.000000   \n",
      "50%     51951.500000   64856.500000      40.000000       843.000000   \n",
      "75%     77927.250000   97368.250000      51.000000      1743.000000   \n",
      "max    103903.000000  129880.000000      85.000000      4983.000000   \n",
      "\n",
      "       Inflight wifi service  Departure/Arrival time convenient  \\\n",
      "count          103904.000000                      103904.000000   \n",
      "mean                2.729683                           3.060296   \n",
      "std                 1.327829                           1.525075   \n",
      "min                 0.000000                           0.000000   \n",
      "25%                 2.000000                           2.000000   \n",
      "50%                 3.000000                           3.000000   \n",
      "75%                 4.000000                           4.000000   \n",
      "max                 5.000000                           5.000000   \n",
      "\n",
      "       Ease of Online booking  Gate location  Food and drink  Online boarding  \\\n",
      "count           103904.000000  103904.000000   103904.000000    103904.000000   \n",
      "mean                 2.756901       2.976883        3.202129         3.250375   \n",
      "std                  1.398929       1.277621        1.329533         1.349509   \n",
      "min                  0.000000       0.000000        0.000000         0.000000   \n",
      "25%                  2.000000       2.000000        2.000000         2.000000   \n",
      "50%                  3.000000       3.000000        3.000000         3.000000   \n",
      "75%                  4.000000       4.000000        4.000000         4.000000   \n",
      "max                  5.000000       5.000000        5.000000         5.000000   \n",
      "\n",
      "        Seat comfort  Inflight entertainment  On-board service  \\\n",
      "count  103904.000000           103904.000000     103904.000000   \n",
      "mean        3.439396                3.358158          3.382363   \n",
      "std         1.319088                1.332991          1.288354   \n",
      "min         0.000000                0.000000          0.000000   \n",
      "25%         2.000000                2.000000          2.000000   \n",
      "50%         4.000000                4.000000          4.000000   \n",
      "75%         5.000000                4.000000          4.000000   \n",
      "max         5.000000                5.000000          5.000000   \n",
      "\n",
      "       Leg room service  Baggage handling  Checkin service  Inflight service  \\\n",
      "count     103904.000000     103904.000000    103904.000000     103904.000000   \n",
      "mean           3.351055          3.631833         3.304290          3.640428   \n",
      "std            1.315605          1.180903         1.265396          1.175663   \n",
      "min            0.000000          1.000000         0.000000          0.000000   \n",
      "25%            2.000000          3.000000         3.000000          3.000000   \n",
      "50%            4.000000          4.000000         3.000000          4.000000   \n",
      "75%            4.000000          5.000000         4.000000          5.000000   \n",
      "max            5.000000          5.000000         5.000000          5.000000   \n",
      "\n",
      "         Cleanliness  Departure Delay in Minutes  Arrival Delay in Minutes  \n",
      "count  103904.000000               103904.000000             103594.000000  \n",
      "mean        3.286351                   14.815618                 15.178678  \n",
      "std         1.312273                   38.230901                 38.698682  \n",
      "min         0.000000                    0.000000                  0.000000  \n",
      "25%         2.000000                    0.000000                  0.000000  \n",
      "50%         3.000000                    0.000000                  0.000000  \n",
      "75%         4.000000                   12.000000                 13.000000  \n",
      "max         5.000000                 1592.000000               1584.000000  \n",
      "satisfaction\n",
      "neutral or dissatisfied    58879\n",
      "satisfied                  45025\n",
      "Name: count, dtype: int64\n"
     ]
    }
   ],
   "source": [
    "import pandas as pd\n",
    "\n",
    "# Load the dataset\n",
    "data = pd.read_csv(\"C:/Users/hp/Documents/train.csv/train.csv\")\n",
    "\n",
    "# Display the first few rows of the dataset to get an overview\n",
    "print(data.head())\n",
    "\n",
    "# Check the structure of the dataset, including the number of rows and columns\n",
    "print(data.shape)\n",
    "\n",
    "# Check the data types and missing values in the dataset\n",
    "print(data.info())\n",
    "\n",
    "# Summary statistics for numerical features\n",
    "print(data.describe())\n",
    "\n",
    "# Target variable distribution (customer satisfaction)\n",
    "print(data['satisfaction'].value_counts())\n"
   ]
  },
  {
   "cell_type": "code",
   "execution_count": null,
   "id": "982ab4f3",
   "metadata": {},
   "outputs": [],
   "source": [
    "2. Classification Task - Predicting Customer Satisfaction:\n",
    "a. Implement a decision tree classifier using Python libraries like scikit-learn to predict customer\n",
    "satisfaction.\n",
    "b. Split the dataset into training and testing sets and train the model.\n",
    "c. Evaluate the classification model's performance using relevant metrics such as accuracy, precision,\n",
    "recall, and F1-score"
   ]
  },
  {
   "cell_type": "code",
   "execution_count": 8,
   "id": "54576d82",
   "metadata": {},
   "outputs": [
    {
     "name": "stdout",
     "output_type": "stream",
     "text": [
      "Accuracy: 94.70%\n",
      "Precision for 'satisfied': 94.25%\n",
      "Recall for 'satisfied': 93.57%\n",
      "F1 Score for 'satisfied': 0.94\n"
     ]
    }
   ],
   "source": [
    "from sklearn.metrics import accuracy_score, precision_score, recall_score, f1_score\n",
    "\n",
    "# Assuming 'y_test' and 'y_pred' are your true labels and predicted labels, respectively\n",
    "\n",
    "# Accuracy\n",
    "accuracy = accuracy_score(y_test, y_pred)\n",
    "\n",
    "# Precision for 'satisfied' as the positive class\n",
    "precision = precision_score(y_test, y_pred, pos_label='satisfied')\n",
    "\n",
    "# Recall for 'satisfied' as the positive class\n",
    "recall = recall_score(y_test, y_pred, pos_label='satisfied')\n",
    "\n",
    "# F1 Score for 'satisfied' as the positive class\n",
    "f1 = f1_score(y_test, y_pred, pos_label='satisfied')\n",
    "\n",
    "# Print the evaluation metrics\n",
    "print(\"Accuracy: {:.2f}%\".format(accuracy * 100))\n",
    "print(\"Precision for 'satisfied': {:.2f}%\".format(precision * 100))\n",
    "print(\"Recall for 'satisfied': {:.2f}%\".format(recall * 100))\n",
    "print(\"F1 Score for 'satisfied': {:.2f}\".format(f1))\n"
   ]
  },
  {
   "cell_type": "code",
   "execution_count": null,
   "id": "8a438203",
   "metadata": {},
   "outputs": [],
   "source": [
    "3)a. Implement a Decision Tree Regression Model"
   ]
  },
  {
   "cell_type": "code",
   "execution_count": 10,
   "id": "b7dc3997",
   "metadata": {},
   "outputs": [
    {
     "ename": "KeyError",
     "evalue": "'sales'",
     "output_type": "error",
     "traceback": [
      "\u001b[1;31m---------------------------------------------------------------------------\u001b[0m",
      "\u001b[1;31mKeyError\u001b[0m                                  Traceback (most recent call last)",
      "File \u001b[1;32m~\\anaconda3\\Lib\\site-packages\\pandas\\core\\indexes\\base.py:3653\u001b[0m, in \u001b[0;36mIndex.get_loc\u001b[1;34m(self, key)\u001b[0m\n\u001b[0;32m   3652\u001b[0m \u001b[38;5;28;01mtry\u001b[39;00m:\n\u001b[1;32m-> 3653\u001b[0m     \u001b[38;5;28;01mreturn\u001b[39;00m \u001b[38;5;28mself\u001b[39m\u001b[38;5;241m.\u001b[39m_engine\u001b[38;5;241m.\u001b[39mget_loc(casted_key)\n\u001b[0;32m   3654\u001b[0m \u001b[38;5;28;01mexcept\u001b[39;00m \u001b[38;5;167;01mKeyError\u001b[39;00m \u001b[38;5;28;01mas\u001b[39;00m err:\n",
      "File \u001b[1;32m~\\anaconda3\\Lib\\site-packages\\pandas\\_libs\\index.pyx:147\u001b[0m, in \u001b[0;36mpandas._libs.index.IndexEngine.get_loc\u001b[1;34m()\u001b[0m\n",
      "File \u001b[1;32m~\\anaconda3\\Lib\\site-packages\\pandas\\_libs\\index.pyx:176\u001b[0m, in \u001b[0;36mpandas._libs.index.IndexEngine.get_loc\u001b[1;34m()\u001b[0m\n",
      "File \u001b[1;32mpandas\\_libs\\hashtable_class_helper.pxi:7080\u001b[0m, in \u001b[0;36mpandas._libs.hashtable.PyObjectHashTable.get_item\u001b[1;34m()\u001b[0m\n",
      "File \u001b[1;32mpandas\\_libs\\hashtable_class_helper.pxi:7088\u001b[0m, in \u001b[0;36mpandas._libs.hashtable.PyObjectHashTable.get_item\u001b[1;34m()\u001b[0m\n",
      "\u001b[1;31mKeyError\u001b[0m: 'sales'",
      "\nThe above exception was the direct cause of the following exception:\n",
      "\u001b[1;31mKeyError\u001b[0m                                  Traceback (most recent call last)",
      "Cell \u001b[1;32mIn[10], line 2\u001b[0m\n\u001b[0;32m      1\u001b[0m \u001b[38;5;66;03m# Convert the 'sales' column to numeric\u001b[39;00m\n\u001b[1;32m----> 2\u001b[0m data[\u001b[38;5;124m'\u001b[39m\u001b[38;5;124msales\u001b[39m\u001b[38;5;124m'\u001b[39m] \u001b[38;5;241m=\u001b[39m pd\u001b[38;5;241m.\u001b[39mto_numeric(data[\u001b[38;5;124m'\u001b[39m\u001b[38;5;124msales\u001b[39m\u001b[38;5;124m'\u001b[39m], errors\u001b[38;5;241m=\u001b[39m\u001b[38;5;124m'\u001b[39m\u001b[38;5;124mcoerce\u001b[39m\u001b[38;5;124m'\u001b[39m)\n\u001b[0;32m      4\u001b[0m \u001b[38;5;66;03m# Check for missing values\u001b[39;00m\n\u001b[0;32m      5\u001b[0m \u001b[38;5;28mprint\u001b[39m(\u001b[38;5;124m\"\u001b[39m\u001b[38;5;124mNumber of missing values in \u001b[39m\u001b[38;5;124m'\u001b[39m\u001b[38;5;124msales\u001b[39m\u001b[38;5;124m'\u001b[39m\u001b[38;5;124m:\u001b[39m\u001b[38;5;124m\"\u001b[39m, data[\u001b[38;5;124m'\u001b[39m\u001b[38;5;124msales\u001b[39m\u001b[38;5;124m'\u001b[39m]\u001b[38;5;241m.\u001b[39misnull()\u001b[38;5;241m.\u001b[39msum())\n",
      "File \u001b[1;32m~\\anaconda3\\Lib\\site-packages\\pandas\\core\\frame.py:3761\u001b[0m, in \u001b[0;36mDataFrame.__getitem__\u001b[1;34m(self, key)\u001b[0m\n\u001b[0;32m   3759\u001b[0m \u001b[38;5;28;01mif\u001b[39;00m \u001b[38;5;28mself\u001b[39m\u001b[38;5;241m.\u001b[39mcolumns\u001b[38;5;241m.\u001b[39mnlevels \u001b[38;5;241m>\u001b[39m \u001b[38;5;241m1\u001b[39m:\n\u001b[0;32m   3760\u001b[0m     \u001b[38;5;28;01mreturn\u001b[39;00m \u001b[38;5;28mself\u001b[39m\u001b[38;5;241m.\u001b[39m_getitem_multilevel(key)\n\u001b[1;32m-> 3761\u001b[0m indexer \u001b[38;5;241m=\u001b[39m \u001b[38;5;28mself\u001b[39m\u001b[38;5;241m.\u001b[39mcolumns\u001b[38;5;241m.\u001b[39mget_loc(key)\n\u001b[0;32m   3762\u001b[0m \u001b[38;5;28;01mif\u001b[39;00m is_integer(indexer):\n\u001b[0;32m   3763\u001b[0m     indexer \u001b[38;5;241m=\u001b[39m [indexer]\n",
      "File \u001b[1;32m~\\anaconda3\\Lib\\site-packages\\pandas\\core\\indexes\\base.py:3655\u001b[0m, in \u001b[0;36mIndex.get_loc\u001b[1;34m(self, key)\u001b[0m\n\u001b[0;32m   3653\u001b[0m     \u001b[38;5;28;01mreturn\u001b[39;00m \u001b[38;5;28mself\u001b[39m\u001b[38;5;241m.\u001b[39m_engine\u001b[38;5;241m.\u001b[39mget_loc(casted_key)\n\u001b[0;32m   3654\u001b[0m \u001b[38;5;28;01mexcept\u001b[39;00m \u001b[38;5;167;01mKeyError\u001b[39;00m \u001b[38;5;28;01mas\u001b[39;00m err:\n\u001b[1;32m-> 3655\u001b[0m     \u001b[38;5;28;01mraise\u001b[39;00m \u001b[38;5;167;01mKeyError\u001b[39;00m(key) \u001b[38;5;28;01mfrom\u001b[39;00m \u001b[38;5;21;01merr\u001b[39;00m\n\u001b[0;32m   3656\u001b[0m \u001b[38;5;28;01mexcept\u001b[39;00m \u001b[38;5;167;01mTypeError\u001b[39;00m:\n\u001b[0;32m   3657\u001b[0m     \u001b[38;5;66;03m# If we have a listlike key, _check_indexing_error will raise\u001b[39;00m\n\u001b[0;32m   3658\u001b[0m     \u001b[38;5;66;03m#  InvalidIndexError. Otherwise we fall through and re-raise\u001b[39;00m\n\u001b[0;32m   3659\u001b[0m     \u001b[38;5;66;03m#  the TypeError.\u001b[39;00m\n\u001b[0;32m   3660\u001b[0m     \u001b[38;5;28mself\u001b[39m\u001b[38;5;241m.\u001b[39m_check_indexing_error(key)\n",
      "\u001b[1;31mKeyError\u001b[0m: 'sales'"
     ]
    }
   ],
   "source": [
    "# Convert the 'sales' column to numeric\n",
    "data['sales'] = pd.to_numeric(data['sales'], errors='coerce')\n",
    "\n",
    "# Check for missing values\n",
    "print(\"Number of missing values in 'sales':\", data['sales'].isnull().sum())\n",
    "\n",
    "# Drop rows with missing 'sales' values\n",
    "data = data.dropna(subset=['sales'])\n",
    "\n",
    "# Define features (X) and the target variable (y)\n",
    "X = data.drop('sales', axis=1)  # Features\n",
    "y = data['sales']  # Target variable\n"
   ]
  },
  {
   "cell_type": "code",
   "execution_count": 11,
   "id": "11bbc519",
   "metadata": {},
   "outputs": [
    {
     "name": "stdout",
     "output_type": "stream",
     "text": [
      "Index(['Unnamed: 0', 'id', 'Age', 'Flight Distance', 'Inflight wifi service',\n",
      "       'Departure/Arrival time convenient', 'Ease of Online booking',\n",
      "       'Gate location', 'Food and drink', 'Online boarding', 'Seat comfort',\n",
      "       'Inflight entertainment', 'On-board service', 'Leg room service',\n",
      "       'Baggage handling', 'Checkin service', 'Inflight service',\n",
      "       'Cleanliness', 'Departure Delay in Minutes', 'Arrival Delay in Minutes',\n",
      "       'satisfaction', 'Gender_Male', 'Customer Type_disloyal Customer',\n",
      "       'Type of Travel_Personal Travel', 'Class_Eco', 'Class_Eco Plus'],\n",
      "      dtype='object')\n"
     ]
    }
   ],
   "source": [
    "# List the column names in your dataset\n",
    "print(data.columns)\n"
   ]
  },
  {
   "cell_type": "code",
   "execution_count": null,
   "id": "7ec50a18",
   "metadata": {},
   "outputs": [],
   "source": [
    "4. Decision Tree Visualization:\n",
    "a. Visualize the decision tree for both the classification and regression models. Discuss the interpretability\n",
    "of decision trees in predictive modeling"
   ]
  },
  {
   "cell_type": "code",
   "execution_count": 8,
   "id": "6fee1dcc",
   "metadata": {},
   "outputs": [
    {
     "ename": "NameError",
     "evalue": "name 'X' is not defined",
     "output_type": "error",
     "traceback": [
      "\u001b[1;31m---------------------------------------------------------------------------\u001b[0m",
      "\u001b[1;31mNameError\u001b[0m                                 Traceback (most recent call last)",
      "Cell \u001b[1;32mIn[8], line 6\u001b[0m\n\u001b[0;32m      4\u001b[0m \u001b[38;5;66;03m# Visualize the decision tree for classification\u001b[39;00m\n\u001b[0;32m      5\u001b[0m plt\u001b[38;5;241m.\u001b[39mfigure(figsize\u001b[38;5;241m=\u001b[39m(\u001b[38;5;241m12\u001b[39m, \u001b[38;5;241m8\u001b[39m))\n\u001b[1;32m----> 6\u001b[0m plot_tree(clf, filled\u001b[38;5;241m=\u001b[39m\u001b[38;5;28;01mTrue\u001b[39;00m, feature_names\u001b[38;5;241m=\u001b[39mX\u001b[38;5;241m.\u001b[39mcolumns, class_names\u001b[38;5;241m=\u001b[39m[\u001b[38;5;124m'\u001b[39m\u001b[38;5;124mneutral or dissatisfied\u001b[39m\u001b[38;5;124m'\u001b[39m, \u001b[38;5;124m'\u001b[39m\u001b[38;5;124msatisfied\u001b[39m\u001b[38;5;124m'\u001b[39m])\n\u001b[0;32m      7\u001b[0m plt\u001b[38;5;241m.\u001b[39mshow()\n",
      "\u001b[1;31mNameError\u001b[0m: name 'X' is not defined"
     ]
    },
    {
     "data": {
      "text/plain": [
       "<Figure size 1200x800 with 0 Axes>"
      ]
     },
     "metadata": {},
     "output_type": "display_data"
    }
   ],
   "source": [
    "from sklearn.tree import plot_tree\n",
    "import matplotlib.pyplot as plt\n",
    "\n",
    "# Visualize the decision tree for classification\n",
    "plt.figure(figsize=(12, 8))\n",
    "plot_tree(clf, filled=True, feature_names=X.columns, class_names=['neutral or dissatisfied', 'satisfied'])\n",
    "plt.show()\n"
   ]
  },
  {
   "cell_type": "code",
   "execution_count": null,
   "id": "f18f1f50",
   "metadata": {},
   "outputs": [],
   "source": []
  },
  {
   "cell_type": "code",
   "execution_count": null,
   "id": "1010fe24",
   "metadata": {},
   "outputs": [],
   "source": []
  },
  {
   "cell_type": "code",
   "execution_count": 9,
   "id": "40f1af4b",
   "metadata": {},
   "outputs": [
    {
     "ename": "NameError",
     "evalue": "name 'regressor' is not defined",
     "output_type": "error",
     "traceback": [
      "\u001b[1;31m---------------------------------------------------------------------------\u001b[0m",
      "\u001b[1;31mNameError\u001b[0m                                 Traceback (most recent call last)",
      "Cell \u001b[1;32mIn[9], line 7\u001b[0m\n\u001b[0;32m      5\u001b[0m \u001b[38;5;66;03m# Visualize the decision tree for regression\u001b[39;00m\n\u001b[0;32m      6\u001b[0m plt\u001b[38;5;241m.\u001b[39mfigure(figsize\u001b[38;5;241m=\u001b[39m(\u001b[38;5;241m12\u001b[39m, \u001b[38;5;241m8\u001b[39m))\n\u001b[1;32m----> 7\u001b[0m plot_tree(regressor, filled\u001b[38;5;241m=\u001b[39m\u001b[38;5;28;01mTrue\u001b[39;00m, feature_names\u001b[38;5;241m=\u001b[39mX\u001b[38;5;241m.\u001b[39mcolumns)\n\u001b[0;32m      8\u001b[0m plt\u001b[38;5;241m.\u001b[39mshow()\n",
      "\u001b[1;31mNameError\u001b[0m: name 'regressor' is not defined"
     ]
    },
    {
     "data": {
      "text/plain": [
       "<Figure size 1200x800 with 0 Axes>"
      ]
     },
     "metadata": {},
     "output_type": "display_data"
    }
   ],
   "source": [
    "#4b\n",
    "from sklearn.tree import plot_tree\n",
    "import matplotlib.pyplot as plt\n",
    "\n",
    "# Visualize the decision tree for regression\n",
    "plt.figure(figsize=(12, 8))\n",
    "plot_tree(regressor, filled=True, feature_names=X.columns)\n",
    "plt.show()\n"
   ]
  },
  {
   "cell_type": "code",
   "execution_count": 12,
   "id": "204bca0d",
   "metadata": {},
   "outputs": [
    {
     "ename": "NameError",
     "evalue": "name 'X' is not defined",
     "output_type": "error",
     "traceback": [
      "\u001b[1;31m---------------------------------------------------------------------------\u001b[0m",
      "\u001b[1;31mNameError\u001b[0m                                 Traceback (most recent call last)",
      "Cell \u001b[1;32mIn[12], line 2\u001b[0m\n\u001b[0;32m      1\u001b[0m plt\u001b[38;5;241m.\u001b[39mfigure(figsize\u001b[38;5;241m=\u001b[39m(\u001b[38;5;241m12\u001b[39m, \u001b[38;5;241m8\u001b[39m))\n\u001b[1;32m----> 2\u001b[0m plot_tree(clf, filled\u001b[38;5;241m=\u001b[39m\u001b[38;5;28;01mTrue\u001b[39;00m, feature_names\u001b[38;5;241m=\u001b[39mX\u001b[38;5;241m.\u001b[39mcolumns, class_names\u001b[38;5;241m=\u001b[39m[\u001b[38;5;124m'\u001b[39m\u001b[38;5;124mneutral or dissatisfied\u001b[39m\u001b[38;5;124m'\u001b[39m, \u001b[38;5;124m'\u001b[39m\u001b[38;5;124msatisfied\u001b[39m\u001b[38;5;124m'\u001b[39m])\n\u001b[0;32m      3\u001b[0m plt\u001b[38;5;241m.\u001b[39mshow()\n",
      "\u001b[1;31mNameError\u001b[0m: name 'X' is not defined"
     ]
    },
    {
     "data": {
      "text/plain": [
       "<Figure size 1200x800 with 0 Axes>"
      ]
     },
     "metadata": {},
     "output_type": "display_data"
    }
   ],
   "source": [
    "plt.figure(figsize=(12, 8))\n",
    "plot_tree(clf, filled=True, feature_names=X.columns, class_names=['neutral or dissatisfied', 'satisfied'])\n",
    "plt.show()\n"
   ]
  },
  {
   "cell_type": "code",
   "execution_count": null,
   "id": "675a8f45",
   "metadata": {},
   "outputs": [],
   "source": [
    "6. Overfitting and Pruning:\n",
    "a. Explain the concept of overfitting in the context of decision trees.\n",
    "b. Discuss methods for reducing overfitting, such as pruning, minimum samples per leaf, and maximum\n",
    "depth.\n",
    "c. Implement pruning or other techniques as necessary and analyze their impact on the model's\n",
    "performance.\n"
   ]
  },
  {
   "cell_type": "code",
   "execution_count": 14,
   "id": "bad534a0",
   "metadata": {},
   "outputs": [
    {
     "ename": "NameError",
     "evalue": "name 'X' is not defined",
     "output_type": "error",
     "traceback": [
      "\u001b[1;31m---------------------------------------------------------------------------\u001b[0m",
      "\u001b[1;31mNameError\u001b[0m                                 Traceback (most recent call last)",
      "Cell \u001b[1;32mIn[14], line 4\u001b[0m\n\u001b[0;32m      1\u001b[0m \u001b[38;5;66;03m#c\u001b[39;00m\n\u001b[0;32m      2\u001b[0m \u001b[38;5;28;01mfrom\u001b[39;00m \u001b[38;5;21;01msklearn\u001b[39;00m\u001b[38;5;21;01m.\u001b[39;00m\u001b[38;5;21;01mmodel_selection\u001b[39;00m \u001b[38;5;28;01mimport\u001b[39;00m train_test_split\n\u001b[1;32m----> 4\u001b[0m X_train, X_test, y_train, y_test \u001b[38;5;241m=\u001b[39m train_test_split(X, y, test_size\u001b[38;5;241m=\u001b[39m\u001b[38;5;241m0.2\u001b[39m, random_state\u001b[38;5;241m=\u001b[39m\u001b[38;5;241m42\u001b[39m)\n",
      "\u001b[1;31mNameError\u001b[0m: name 'X' is not defined"
     ]
    }
   ],
   "source": [
    "#c\n",
    "from sklearn.model_selection import train_test_split\n",
    "\n",
    "X_train, X_test, y_train, y_test = train_test_split(X, y, test_size=0.2, random_state=42)\n"
   ]
  },
  {
   "cell_type": "code",
   "execution_count": 15,
   "id": "3f2e3461",
   "metadata": {},
   "outputs": [
    {
     "ename": "NameError",
     "evalue": "name 'X' is not defined",
     "output_type": "error",
     "traceback": [
      "\u001b[1;31m---------------------------------------------------------------------------\u001b[0m",
      "\u001b[1;31mNameError\u001b[0m                                 Traceback (most recent call last)",
      "Cell \u001b[1;32mIn[15], line 7\u001b[0m\n\u001b[0;32m      4\u001b[0m \u001b[38;5;28;01mfrom\u001b[39;00m \u001b[38;5;21;01msklearn\u001b[39;00m\u001b[38;5;21;01m.\u001b[39;00m\u001b[38;5;21;01mmetrics\u001b[39;00m \u001b[38;5;28;01mimport\u001b[39;00m accuracy_score\n\u001b[0;32m      6\u001b[0m \u001b[38;5;66;03m# Split data into training and testing sets\u001b[39;00m\n\u001b[1;32m----> 7\u001b[0m X_train, X_test, y_train, y_test \u001b[38;5;241m=\u001b[39m train_test_split(X, y, test_size\u001b[38;5;241m=\u001b[39m\u001b[38;5;241m0.2\u001b[39m, random_state\u001b[38;5;241m=\u001b[39m\u001b[38;5;241m42\u001b[39m)\n\u001b[0;32m      9\u001b[0m \u001b[38;5;66;03m# Create a Decision Tree Classifier\u001b[39;00m\n\u001b[0;32m     10\u001b[0m clf \u001b[38;5;241m=\u001b[39m DecisionTreeClassifier(max_depth\u001b[38;5;241m=\u001b[39m\u001b[38;5;241m3\u001b[39m)\n",
      "\u001b[1;31mNameError\u001b[0m: name 'X' is not defined"
     ]
    }
   ],
   "source": [
    "# Import necessary libraries\n",
    "from sklearn.model_selection import train_test_split\n",
    "from sklearn.tree import DecisionTreeClassifier\n",
    "from sklearn.metrics import accuracy_score\n",
    "\n",
    "# Split data into training and testing sets\n",
    "X_train, X_test, y_train, y_test = train_test_split(X, y, test_size=0.2, random_state=42)\n",
    "\n",
    "# Create a Decision Tree Classifier\n",
    "clf = DecisionTreeClassifier(max_depth=3)\n",
    "\n",
    "# Train the model on the training data\n",
    "clf.fit(X_train, y_train)\n",
    "\n",
    "# Make predictions on the testing data\n",
    "y_pred = clf.predict(X_test)\n",
    "\n",
    "# Evaluate the model's performance\n",
    "accuracy = accuracy_score(y_test, y_pred)\n",
    "print(\"Accuracy:\", accuracy)\n"
   ]
  },
  {
   "cell_type": "code",
   "execution_count": 16,
   "id": "fe2e54ab",
   "metadata": {},
   "outputs": [
    {
     "ename": "KeyError",
     "evalue": "\"None of [Index(['feature1', 'feature2', 'feature3'], dtype='object')] are in the [columns]\"",
     "output_type": "error",
     "traceback": [
      "\u001b[1;31m---------------------------------------------------------------------------\u001b[0m",
      "\u001b[1;31mKeyError\u001b[0m                                  Traceback (most recent call last)",
      "Cell \u001b[1;32mIn[16], line 7\u001b[0m\n\u001b[0;32m      4\u001b[0m data \u001b[38;5;241m=\u001b[39m pd\u001b[38;5;241m.\u001b[39mread_csv(\u001b[38;5;124m\"\u001b[39m\u001b[38;5;124mC:/Users/hp/Documents/train.csv/train.csv\u001b[39m\u001b[38;5;124m\"\u001b[39m)\n\u001b[0;32m      6\u001b[0m \u001b[38;5;66;03m# Define 'X' by selecting feature columns\u001b[39;00m\n\u001b[1;32m----> 7\u001b[0m X \u001b[38;5;241m=\u001b[39m data[[\u001b[38;5;124m'\u001b[39m\u001b[38;5;124mfeature1\u001b[39m\u001b[38;5;124m'\u001b[39m, \u001b[38;5;124m'\u001b[39m\u001b[38;5;124mfeature2\u001b[39m\u001b[38;5;124m'\u001b[39m, \u001b[38;5;124m'\u001b[39m\u001b[38;5;124mfeature3\u001b[39m\u001b[38;5;124m'\u001b[39m]]\n",
      "File \u001b[1;32m~\\anaconda3\\Lib\\site-packages\\pandas\\core\\frame.py:3767\u001b[0m, in \u001b[0;36mDataFrame.__getitem__\u001b[1;34m(self, key)\u001b[0m\n\u001b[0;32m   3765\u001b[0m     \u001b[38;5;28;01mif\u001b[39;00m is_iterator(key):\n\u001b[0;32m   3766\u001b[0m         key \u001b[38;5;241m=\u001b[39m \u001b[38;5;28mlist\u001b[39m(key)\n\u001b[1;32m-> 3767\u001b[0m     indexer \u001b[38;5;241m=\u001b[39m \u001b[38;5;28mself\u001b[39m\u001b[38;5;241m.\u001b[39mcolumns\u001b[38;5;241m.\u001b[39m_get_indexer_strict(key, \u001b[38;5;124m\"\u001b[39m\u001b[38;5;124mcolumns\u001b[39m\u001b[38;5;124m\"\u001b[39m)[\u001b[38;5;241m1\u001b[39m]\n\u001b[0;32m   3769\u001b[0m \u001b[38;5;66;03m# take() does not accept boolean indexers\u001b[39;00m\n\u001b[0;32m   3770\u001b[0m \u001b[38;5;28;01mif\u001b[39;00m \u001b[38;5;28mgetattr\u001b[39m(indexer, \u001b[38;5;124m\"\u001b[39m\u001b[38;5;124mdtype\u001b[39m\u001b[38;5;124m\"\u001b[39m, \u001b[38;5;28;01mNone\u001b[39;00m) \u001b[38;5;241m==\u001b[39m \u001b[38;5;28mbool\u001b[39m:\n",
      "File \u001b[1;32m~\\anaconda3\\Lib\\site-packages\\pandas\\core\\indexes\\base.py:5877\u001b[0m, in \u001b[0;36mIndex._get_indexer_strict\u001b[1;34m(self, key, axis_name)\u001b[0m\n\u001b[0;32m   5874\u001b[0m \u001b[38;5;28;01melse\u001b[39;00m:\n\u001b[0;32m   5875\u001b[0m     keyarr, indexer, new_indexer \u001b[38;5;241m=\u001b[39m \u001b[38;5;28mself\u001b[39m\u001b[38;5;241m.\u001b[39m_reindex_non_unique(keyarr)\n\u001b[1;32m-> 5877\u001b[0m \u001b[38;5;28mself\u001b[39m\u001b[38;5;241m.\u001b[39m_raise_if_missing(keyarr, indexer, axis_name)\n\u001b[0;32m   5879\u001b[0m keyarr \u001b[38;5;241m=\u001b[39m \u001b[38;5;28mself\u001b[39m\u001b[38;5;241m.\u001b[39mtake(indexer)\n\u001b[0;32m   5880\u001b[0m \u001b[38;5;28;01mif\u001b[39;00m \u001b[38;5;28misinstance\u001b[39m(key, Index):\n\u001b[0;32m   5881\u001b[0m     \u001b[38;5;66;03m# GH 42790 - Preserve name from an Index\u001b[39;00m\n",
      "File \u001b[1;32m~\\anaconda3\\Lib\\site-packages\\pandas\\core\\indexes\\base.py:5938\u001b[0m, in \u001b[0;36mIndex._raise_if_missing\u001b[1;34m(self, key, indexer, axis_name)\u001b[0m\n\u001b[0;32m   5936\u001b[0m     \u001b[38;5;28;01mif\u001b[39;00m use_interval_msg:\n\u001b[0;32m   5937\u001b[0m         key \u001b[38;5;241m=\u001b[39m \u001b[38;5;28mlist\u001b[39m(key)\n\u001b[1;32m-> 5938\u001b[0m     \u001b[38;5;28;01mraise\u001b[39;00m \u001b[38;5;167;01mKeyError\u001b[39;00m(\u001b[38;5;124mf\u001b[39m\u001b[38;5;124m\"\u001b[39m\u001b[38;5;124mNone of [\u001b[39m\u001b[38;5;132;01m{\u001b[39;00mkey\u001b[38;5;132;01m}\u001b[39;00m\u001b[38;5;124m] are in the [\u001b[39m\u001b[38;5;132;01m{\u001b[39;00maxis_name\u001b[38;5;132;01m}\u001b[39;00m\u001b[38;5;124m]\u001b[39m\u001b[38;5;124m\"\u001b[39m)\n\u001b[0;32m   5940\u001b[0m not_found \u001b[38;5;241m=\u001b[39m \u001b[38;5;28mlist\u001b[39m(ensure_index(key)[missing_mask\u001b[38;5;241m.\u001b[39mnonzero()[\u001b[38;5;241m0\u001b[39m]]\u001b[38;5;241m.\u001b[39munique())\n\u001b[0;32m   5941\u001b[0m \u001b[38;5;28;01mraise\u001b[39;00m \u001b[38;5;167;01mKeyError\u001b[39;00m(\u001b[38;5;124mf\u001b[39m\u001b[38;5;124m\"\u001b[39m\u001b[38;5;132;01m{\u001b[39;00mnot_found\u001b[38;5;132;01m}\u001b[39;00m\u001b[38;5;124m not in index\u001b[39m\u001b[38;5;124m\"\u001b[39m)\n",
      "\u001b[1;31mKeyError\u001b[0m: \"None of [Index(['feature1', 'feature2', 'feature3'], dtype='object')] are in the [columns]\""
     ]
    }
   ],
   "source": [
    "import pandas as pd\n",
    "\n",
    "# Load your dataset\n",
    "data = pd.read_csv(\"C:/Users/hp/Documents/train.csv/train.csv\")\n",
    "\n",
    "# Define 'X' by selecting feature columns\n",
    "X = data[['feature1', 'feature2', 'feature3']]\n"
   ]
  },
  {
   "cell_type": "code",
   "execution_count": null,
   "id": "410ef183",
   "metadata": {},
   "outputs": [],
   "source": []
  }
 ],
 "metadata": {
  "kernelspec": {
   "display_name": "Python 3 (ipykernel)",
   "language": "python",
   "name": "python3"
  },
  "language_info": {
   "codemirror_mode": {
    "name": "ipython",
    "version": 3
   },
   "file_extension": ".py",
   "mimetype": "text/x-python",
   "name": "python",
   "nbconvert_exporter": "python",
   "pygments_lexer": "ipython3",
   "version": "3.11.5"
  }
 },
 "nbformat": 4,
 "nbformat_minor": 5
}
