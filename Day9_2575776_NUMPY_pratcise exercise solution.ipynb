{
 "cells": [
  {
   "cell_type": "markdown",
   "id": "164028d8",
   "metadata": {},
   "source": [
    "# 1) create a 3*3*3 array with random values in python"
   ]
  },
  {
   "cell_type": "code",
   "execution_count": 1,
   "id": "f3619738",
   "metadata": {},
   "outputs": [
    {
     "name": "stdout",
     "output_type": "stream",
     "text": [
      "[[[0.78964021 0.42335519 0.22545026]\n",
      "  [0.73216534 0.14700623 0.1409757 ]\n",
      "  [0.07151892 0.42498238 0.15453456]]\n",
      "\n",
      " [[0.50376576 0.34409229 0.98624135]\n",
      "  [0.26315282 0.9492116  0.69659705]\n",
      "  [0.50971886 0.59468141 0.83023457]]\n",
      "\n",
      " [[0.98138635 0.27363192 0.30784831]\n",
      "  [0.87010833 0.22993862 0.14663071]\n",
      "  [0.05374204 0.32527891 0.90212363]]]\n"
     ]
    }
   ],
   "source": [
    "import numpy as np\n",
    "\n",
    "\n",
    "random_array = np.random.rand(3, 3, 3)\n",
    "\n",
    "\n",
    "print(random_array)\n"
   ]
  },
  {
   "cell_type": "markdown",
   "id": "af0065d0",
   "metadata": {},
   "source": [
    "# 2)create a 5*5 matrix with values 1,2,3,4 just below the diagonal\n"
   ]
  },
  {
   "cell_type": "code",
   "execution_count": 2,
   "id": "845941f6",
   "metadata": {},
   "outputs": [
    {
     "name": "stdout",
     "output_type": "stream",
     "text": [
      "[[0 0 0 0 0]\n",
      " [1 0 0 0 0]\n",
      " [0 2 0 0 0]\n",
      " [0 0 3 0 0]\n",
      " [0 0 0 4 0]]\n"
     ]
    }
   ],
   "source": [
    "import numpy as np\n",
    "\n",
    "# Create a 5x5 matrix filled with zeros\n",
    "matrix = np.zeros((5, 5), dtype=int)\n",
    "\n",
    "# Set values 1, 2, 3, and 4 just below the diagonal\n",
    "for i in range(1, 5):\n",
    "    matrix[i, i - 1] = i\n",
    "\n",
    "# Print the resulting matrix\n",
    "print(matrix)\n"
   ]
  },
  {
   "cell_type": "markdown",
   "id": "a59c348e",
   "metadata": {},
   "source": [
    "# 3)create a 8*8 matrix and fill it with a checkerboard pattern"
   ]
  },
  {
   "cell_type": "code",
   "execution_count": 3,
   "id": "382098f2",
   "metadata": {},
   "outputs": [
    {
     "name": "stdout",
     "output_type": "stream",
     "text": [
      "[[0 1 0 1 0 1 0 1]\n",
      " [1 0 1 0 1 0 1 0]\n",
      " [0 1 0 1 0 1 0 1]\n",
      " [1 0 1 0 1 0 1 0]\n",
      " [0 1 0 1 0 1 0 1]\n",
      " [1 0 1 0 1 0 1 0]\n",
      " [0 1 0 1 0 1 0 1]\n",
      " [1 0 1 0 1 0 1 0]]\n"
     ]
    }
   ],
   "source": [
    "import numpy as np\n",
    "\n",
    "# Create an 8x8 matrix filled with zeros\n",
    "matrix = np.zeros((8, 8), dtype=int)\n",
    "\n",
    "# Fill the matrix with a checkerboard pattern\n",
    "for i in range(8):\n",
    "    for j in range(8):\n",
    "        if (i + j) % 2 == 1:\n",
    "            matrix[i, j] = 1\n",
    "\n",
    "# Print the resulting matrix\n",
    "print(matrix)\n"
   ]
  },
  {
   "cell_type": "markdown",
   "id": "12100f41",
   "metadata": {},
   "source": [
    "# 4)normalize a 5*5 random matrix"
   ]
  },
  {
   "cell_type": "code",
   "execution_count": 4,
   "id": "35b53884",
   "metadata": {},
   "outputs": [
    {
     "name": "stdout",
     "output_type": "stream",
     "text": [
      "Original Matrix:\n",
      "[[0.15270648 0.55083706 0.51143999 0.36925036 0.86242859]\n",
      " [0.30559906 0.6897741  0.3089943  0.62276227 0.56289975]\n",
      " [0.28267857 0.92850656 0.29473294 0.11587282 0.32918945]\n",
      " [0.13556656 0.72057024 0.46295233 0.02988493 0.53488838]\n",
      " [0.39210206 0.61322314 0.3914764  0.95442182 0.95891231]]\n",
      "\n",
      "Normalized Matrix:\n",
      "[[0.13220444 0.56075002 0.51834324 0.36529109 0.89614545]\n",
      " [0.29677718 0.7103011  0.3004318  0.63816993 0.57373424]\n",
      " [0.2721057  0.96727141 0.28508095 0.09255689 0.32216975]\n",
      " [0.11375513 0.74344989 0.46615138 0.         0.54358295]\n",
      " [0.38988853 0.62790206 0.38921509 0.99516645 1.        ]]\n"
     ]
    }
   ],
   "source": [
    "import numpy as np\n",
    "\n",
    "\n",
    "random_matrix = np.random.rand(5, 5)\n",
    "\n",
    "\n",
    "min_value = np.min(random_matrix)\n",
    "max_value = np.max(random_matrix)\n",
    "\n",
    "normalized_matrix = (random_matrix - min_value) / (max_value - min_value)\n",
    "\n",
    "\n",
    "print(\"Original Matrix:\")\n",
    "print(random_matrix)\n",
    "print(\"\\nNormalized Matrix:\")\n",
    "print(normalized_matrix)\n"
   ]
  },
  {
   "cell_type": "markdown",
   "id": "8ddeeab2",
   "metadata": {},
   "source": [
    "# 5) how to find common values between two array\n"
   ]
  },
  {
   "cell_type": "code",
   "execution_count": 5,
   "id": "87ed31bd",
   "metadata": {},
   "outputs": [
    {
     "name": "stdout",
     "output_type": "stream",
     "text": [
      "[3, 4, 5]\n"
     ]
    }
   ],
   "source": [
    "list1 = [1, 2, 3, 4, 5]\n",
    "list2 = [3, 4, 5, 6, 7]\n",
    "\n",
    "common_values = [value for value in list1 if value in list2]\n",
    "\n",
    "print(common_values)\n"
   ]
  },
  {
   "cell_type": "code",
   "execution_count": 6,
   "id": "5792d8d7",
   "metadata": {},
   "outputs": [
    {
     "name": "stdout",
     "output_type": "stream",
     "text": [
      "[3, 4, 5]\n"
     ]
    }
   ],
   "source": [
    "list1 = [1, 2, 3, 4, 5]\n",
    "list2 = [3, 4, 5, 6, 7]\n",
    "\n",
    "set1 = set(list1)\n",
    "set2 = set(list2)\n",
    "\n",
    "common_values = list(set1.intersection(set2))\n",
    "\n",
    "print(common_values)\n"
   ]
  },
  {
   "cell_type": "markdown",
   "id": "13d0aa3f",
   "metadata": {},
   "source": [
    "# 6)how o get the dates of yesterday , today and tomorrow?\n"
   ]
  },
  {
   "cell_type": "code",
   "execution_count": 7,
   "id": "f54bf35a",
   "metadata": {},
   "outputs": [
    {
     "name": "stdout",
     "output_type": "stream",
     "text": [
      "Yesterday: 2023-09-20\n",
      "Today: 2023-09-21\n",
      "Tomorrow: 2023-09-22\n"
     ]
    }
   ],
   "source": [
    "from datetime import datetime, timedelta\n",
    "\n",
    "\n",
    "today = datetime.now().date()\n",
    "\n",
    "\n",
    "yesterday = today - timedelta(days=1)\n",
    "\n",
    "\n",
    "tomorrow = today + timedelta(days=1)\n",
    "\n",
    "\n",
    "today_str = today.strftime(\"%Y-%m-%d\")\n",
    "yesterday_str = yesterday.strftime(\"%Y-%m-%d\")\n",
    "tomorrow_str = tomorrow.strftime(\"%Y-%m-%d\")\n",
    "\n",
    "print(\"Yesterday:\", yesterday_str)\n",
    "print(\"Today:\", today_str)\n",
    "print(\"Tomorrow:\", tomorrow_str)\n"
   ]
  },
  {
   "cell_type": "markdown",
   "id": "43fcd8ae",
   "metadata": {},
   "source": [
    "# 7)consider two random array A and B, check if they are equal?\n"
   ]
  },
  {
   "cell_type": "code",
   "execution_count": 9,
   "id": "bb34d0fc",
   "metadata": {},
   "outputs": [
    {
     "name": "stdout",
     "output_type": "stream",
     "text": [
      "Arrays A and B are not equal.\n"
     ]
    }
   ],
   "source": [
    "import numpy as np\n",
    "\n",
    "\n",
    "A = np.random.rand(5, 6)\n",
    "B = np.random.rand(4, 5)\n",
    "\n",
    "\n",
    "are_equal = np.array_equal(A, B)\n",
    "\n",
    "\n",
    "if are_equal:\n",
    "    print(\"Arrays A and B are equal.\")\n",
    "else:\n",
    "    print(\"Arrays A and B are not equal.\")\n"
   ]
  },
  {
   "cell_type": "markdown",
   "id": "69feaf4a",
   "metadata": {},
   "source": [
    "# 8)create random vector of size 10 and replace the maximum value by 0"
   ]
  },
  {
   "cell_type": "code",
   "execution_count": 10,
   "id": "22b125d7",
   "metadata": {},
   "outputs": [
    {
     "name": "stdout",
     "output_type": "stream",
     "text": [
      "Original Vector:\n",
      "[0.58639155 0.         0.21593386 0.29625715 0.19854238 0.87905111\n",
      " 0.26774322 0.51887512 0.41635512 0.7664935 ]\n"
     ]
    }
   ],
   "source": [
    "import numpy as np\n",
    "\n",
    "random_vector = np.random.rand(10)\n",
    "\n",
    "# Find the index of the maximum value\n",
    "max_index = np.argmax(random_vector)\n",
    "\n",
    "# Replace the maximum value with 0\n",
    "random_vector[max_index] = 0\n",
    "\n",
    "# Print the original and modified vector\n",
    "print(\"Original Vector:\")\n",
    "print(random_vector)\n"
   ]
  },
  {
   "cell_type": "markdown",
   "id": "89312a56",
   "metadata": {},
   "source": [
    "# 9)how to print all the values in array "
   ]
  },
  {
   "cell_type": "code",
   "execution_count": 11,
   "id": "069e5d5a",
   "metadata": {},
   "outputs": [
    {
     "name": "stdout",
     "output_type": "stream",
     "text": [
      "4\n",
      "5\n",
      "6\n",
      "7\n",
      "8\n"
     ]
    }
   ],
   "source": [
    "my_array = [ 4, 5,6,7,8]\n",
    "\n",
    "# Using a for loop to print all values\n",
    "for value in my_array:\n",
    "    print(value)\n"
   ]
  },
  {
   "cell_type": "markdown",
   "id": "e7d3bb45",
   "metadata": {},
   "source": [
    "# 10)subratct the mean of each row of matrix"
   ]
  },
  {
   "cell_type": "code",
   "execution_count": 12,
   "id": "b5099128",
   "metadata": {},
   "outputs": [
    {
     "name": "stdout",
     "output_type": "stream",
     "text": [
      "Original Matrix:\n",
      "[[11 22 33]\n",
      " [44 55 66]\n",
      " [77 88 99]]\n",
      "\n",
      "Matrix with Row Means Subtracted:\n",
      "[[-11.   0.  11.]\n",
      " [-11.   0.  11.]\n",
      " [-11.   0.  11.]]\n"
     ]
    }
   ],
   "source": [
    "import numpy as np\n",
    "\n",
    "# Create a sample matrix\n",
    "matrix = np.array([[11, 22, 33],\n",
    "                   [44, 55, 66],\n",
    "                   [77, 88, 99]])\n",
    "\n",
    "# Calculate the mean of each row\n",
    "row_means = np.mean(matrix, axis=1)\n",
    "\n",
    "# Subtract the row means from the matrix\n",
    "matrix_normalized = matrix - row_means.reshape(-1, 1)\n",
    "\n",
    "# Print the original and normalized matrices\n",
    "print(\"Original Matrix:\")\n",
    "print(matrix)\n",
    "print(\"\\nMatrix with Row Means Subtracted:\")\n",
    "print(matrix_normalized)\n"
   ]
  },
  {
   "cell_type": "markdown",
   "id": "f45e2234",
   "metadata": {},
   "source": [
    "# 11)consiser a given vector how to add 1 to each element indexed by a second vector( be careful with repeated indices)"
   ]
  },
  {
   "cell_type": "code",
   "execution_count": 13,
   "id": "f5bdf327",
   "metadata": {},
   "outputs": [
    {
     "name": "stdout",
     "output_type": "stream",
     "text": [
      "[1 3 3 5 6]\n"
     ]
    }
   ],
   "source": [
    "import numpy as np\n",
    "\n",
    "\n",
    "given_vector = np.array([1, 2, 3, 4, 5])\n",
    "\n",
    "\n",
    "indices_to_increment = np.array([1, 3, 1, 4])\n",
    "\n",
    "\n",
    "unique_indices = np.unique(indices_to_increment)\n",
    "\n",
    "\n",
    "given_vector[unique_indices] += 1\n",
    "\n",
    "print(given_vector)\n"
   ]
  },
  {
   "cell_type": "markdown",
   "id": "6a3766e8",
   "metadata": {},
   "source": [
    "# 12)how to get the diagonal of a dot product ?\n"
   ]
  },
  {
   "cell_type": "code",
   "execution_count": 14,
   "id": "67291465",
   "metadata": {},
   "outputs": [
    {
     "name": "stdout",
     "output_type": "stream",
     "text": [
      "Matrix A:\n",
      "[[1 2 3]\n",
      " [4 5 6]\n",
      " [7 8 9]]\n",
      "\n",
      "Matrix B:\n",
      "[[9 8 7]\n",
      " [6 5 4]\n",
      " [3 2 1]]\n",
      "\n",
      "Dot Product Matrix:\n",
      "[[ 30  24  18]\n",
      " [ 84  69  54]\n",
      " [138 114  90]]\n",
      "\n",
      "Diagonal Elements of Dot Product:\n",
      "[30 69 90]\n"
     ]
    }
   ],
   "source": [
    "import numpy as np\n",
    "\n",
    "# Create two matrices\n",
    "matrix_A = np.array([[1, 2, 3],\n",
    "                     [4, 5, 6],\n",
    "                     [7, 8, 9]])\n",
    "\n",
    "matrix_B = np.array([[9, 8, 7],\n",
    "                     [6, 5, 4],\n",
    "                     [3, 2, 1]])\n",
    "\n",
    "\n",
    "dot_product_matrix = np.dot(matrix_A, matrix_B)\n",
    "\n",
    "diagonal_elements = np.diag(dot_product_matrix)\n",
    "\n",
    "print(\"Matrix A:\")\n",
    "print(matrix_A)\n",
    "\n",
    "print(\"\\nMatrix B:\")\n",
    "print(matrix_B)\n",
    "\n",
    "print(\"\\nDot Product Matrix:\")\n",
    "print(dot_product_matrix)\n",
    "\n",
    "print(\"\\nDiagonal Elements of Dot Product:\")\n",
    "print(diagonal_elements)\n"
   ]
  },
  {
   "cell_type": "markdown",
   "id": "05e222d6",
   "metadata": {},
   "source": [
    "# 13)how to find the most frequent valuse in an array?"
   ]
  },
  {
   "cell_type": "code",
   "execution_count": 15,
   "id": "fcf77c01",
   "metadata": {},
   "outputs": [
    {
     "name": "stdout",
     "output_type": "stream",
     "text": [
      "Most frequent value: 5\n",
      "Frequency: 4\n"
     ]
    }
   ],
   "source": [
    "from collections import Counter\n",
    "\n",
    "\n",
    "my_array = [1, 2, 2, 3, 3, 3, 4, 4, 5, 5, 5, 5]\n",
    "\n",
    "\n",
    "element_counts = Counter(my_array)\n",
    "\n",
    "\n",
    "most_common = element_counts.most_common()\n",
    "\n",
    "most_frequent_value = most_common[0][0] \n",
    "frequency = most_common[0][1]\n",
    "\n",
    "\n",
    "print(\"Most frequent value:\", most_frequent_value)\n",
    "print(\"Frequency:\", frequency)\n"
   ]
  },
  {
   "cell_type": "markdown",
   "id": "00655ea5",
   "metadata": {},
   "source": [
    "# 14) how to get the n largest values of an array"
   ]
  },
  {
   "cell_type": "code",
   "execution_count": 16,
   "id": "6b336a33",
   "metadata": {},
   "outputs": [
    {
     "name": "stdout",
     "output_type": "stream",
     "text": [
      "N largest values: [6 7 8]\n"
     ]
    }
   ],
   "source": [
    "import numpy as np\n",
    "\n",
    "\n",
    "my_array = np.array([4, 2, 8, 1, 6, 5, 7, 3])\n",
    "\n",
    "\n",
    "n = 3\n",
    "\n",
    "\n",
    "indices = np.argsort(my_array)[-n:]\n",
    "\n",
    "\n",
    "n_largest_values = my_array[indices]\n",
    "\n",
    "\n",
    "print(\"N largest values:\", n_largest_values)\n"
   ]
  },
  {
   "cell_type": "markdown",
   "id": "430809a0",
   "metadata": {},
   "source": [
    "# 15)how tp create a record array from a regular array"
   ]
  },
  {
   "cell_type": "code",
   "execution_count": 13,
   "id": "30a9fe14",
   "metadata": {},
   "outputs": [
    {
     "name": "stdout",
     "output_type": "stream",
     "text": [
      "Record Array:\n",
      "[(11, 'ka', 22) (22, 'ma', 45) (33, 'li', 14)]\n",
      "\n",
      "Accessing elements:\n",
      "ID: [11 22 33]\n",
      "Name: ['ka' 'ma' 'li']\n",
      "Age: [22 45 14]\n"
     ]
    }
   ],
   "source": [
    "import numpy as np\n",
    "\n",
    "\n",
    "data = [(11, 'ka', 22),\n",
    "        (22, 'ma', 45),\n",
    "        (33, 'li', 14)]\n",
    "\n",
    "dtype = [('ID', int), ('Name', 'U10'), ('Age', int)]\n",
    "\n",
    "# Create a record array from the regular array\n",
    "record_array = np.rec.array(data, dtype=dtype)\n",
    "\n",
    "# Access elements in the record array by field names\n",
    "print(\"Record Array:\")\n",
    "print(record_array)\n",
    "print(\"\\nAccessing elements:\")\n",
    "print(\"ID:\", record_array.ID)\n",
    "print(\"Name:\", record_array.Name)\n",
    "print(\"Age:\", record_array.Age)"
   ]
  },
  {
   "cell_type": "markdown",
   "id": "98a1406e",
   "metadata": {},
   "source": [
    "# 16) how to swap two rows of an array?"
   ]
  },
  {
   "cell_type": "code",
   "execution_count": 4,
   "id": "9adfc185",
   "metadata": {},
   "outputs": [
    {
     "name": "stdout",
     "output_type": "stream",
     "text": [
      "Array with Rows Swapped:\n",
      "[[44 55 66]\n",
      " [11 22 33]\n",
      " [77 88 99]]\n"
     ]
    }
   ],
   "source": [
    "import numpy as np\n",
    "\n",
    "my_array = np.array([[11, 22, 33],\n",
    "                     [44, 55, 66],\n",
    "                     [77, 88, 99]])\n",
    "\n",
    "row1_index = 0\n",
    "row2_index = 1\n",
    "\n",
    "my_array[row1_index], my_array[row2_index] = my_array[row2_index].copy(), my_array[row1_index].copy()\n",
    "\n",
    "\n",
    "print(\"Array with Rows Swapped:\")\n",
    "print(my_array)\n"
   ]
  },
  {
   "cell_type": "markdown",
   "id": "977f29b1",
   "metadata": {},
   "source": [
    "# 17)write a python code to reshape to the next dimension of numpy array"
   ]
  },
  {
   "cell_type": "code",
   "execution_count": 6,
   "id": "d99b2c6a",
   "metadata": {},
   "outputs": [
    {
     "name": "stdout",
     "output_type": "stream",
     "text": [
      "Original Array (1D):\n",
      "[1 2 3 4 5 6]\n",
      "\n",
      "Reshaped Array (2D):\n",
      "[[1]\n",
      " [2]\n",
      " [3]\n",
      " [4]\n",
      " [5]\n",
      " [6]]\n"
     ]
    }
   ],
   "source": [
    "import numpy as np\n",
    "\n",
    "\n",
    "original_array = np.array([1, 2, 3, 4, 5, 6])\n",
    "\n",
    "current_shape = original_array.shape\n",
    "new_shape = (current_shape[0], 1) \n",
    "\n",
    "\n",
    "reshaped_array = original_array.reshape(new_shape)\n",
    "\n",
    "\n",
    "print(\"Original Array (1D):\")\n",
    "print(original_array)\n",
    "\n",
    "print(\"\\nReshaped Array (2D):\")\n",
    "print(reshaped_array)\n"
   ]
  },
  {
   "cell_type": "code",
   "execution_count": null,
   "id": "f2103e08",
   "metadata": {},
   "outputs": [],
   "source": [
    "18)"
   ]
  }
 ],
 "metadata": {
  "kernelspec": {
   "display_name": "Python 3 (ipykernel)",
   "language": "python",
   "name": "python3"
  },
  "language_info": {
   "codemirror_mode": {
    "name": "ipython",
    "version": 3
   },
   "file_extension": ".py",
   "mimetype": "text/x-python",
   "name": "python",
   "nbconvert_exporter": "python",
   "pygments_lexer": "ipython3",
   "version": "3.11.4"
  }
 },
 "nbformat": 4,
 "nbformat_minor": 5
}
